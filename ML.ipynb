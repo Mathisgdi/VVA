{
 "cells": [
  {
   "cell_type": "code",
   "id": "initial_id",
   "metadata": {
    "collapsed": true,
    "ExecuteTime": {
     "end_time": "2024-09-18T14:34:36.968468Z",
     "start_time": "2024-09-18T14:34:36.925341Z"
    }
   },
   "source": [
    "import pandas as pd\n",
    "\n",
    "clean = pd.read_csv('data/data_final.csv', na_values='\\\\N')\n",
    "clean = clean.dropna()\n",
    "clean = clean.drop(columns=['hour', 'time', 'status', 'fastestLapTime', 'laps', 'raceId', 'driverId','constructorId','positionText','name_circuit','forename','fastestLap','fastestLapSpeed','statusId','number','rank','Track',\"position\",\"points\",\"milliseconds\"])\n",
    "clean = clean.rename(columns={'resultId': 'id'})\n",
    "clean = clean.rename(columns={'positionOrder': 'target'})\n",
    "\n",
    "# créer un fichier test.csv avec les données nettoyées\n",
    "test = pd.read_csv('data/test.csv')\n",
    "test['AirTemp'] = '25'\n",
    "test['Humidity'] = '45'\n",
    "test['Pressure'] = '1013'\n",
    "test['Rainfall'] = '0'\n",
    "test['TrackTemp'] = '30'\n",
    "test['WindDirection'] = '45'\n",
    "test['WindSpeed'] = '20'\n",
    "\n",
    "\n",
    "\n",
    "clean.to_csv('data_clean.csv', index=False)"
   ],
   "outputs": [],
   "execution_count": 7
  }
 ],
 "metadata": {
  "kernelspec": {
   "display_name": "Python 3",
   "language": "python",
   "name": "python3"
  },
  "language_info": {
   "codemirror_mode": {
    "name": "ipython",
    "version": 2
   },
   "file_extension": ".py",
   "mimetype": "text/x-python",
   "name": "python",
   "nbconvert_exporter": "python",
   "pygments_lexer": "ipython2",
   "version": "2.7.6"
  }
 },
 "nbformat": 4,
 "nbformat_minor": 5
}
